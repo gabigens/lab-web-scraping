{
  "cells": [
    {
      "cell_type": "markdown",
      "id": "7e7a1ab8-2599-417d-9a65-25ef07f3a786",
      "metadata": {
        "id": "7e7a1ab8-2599-417d-9a65-25ef07f3a786"
      },
      "source": [
        "# Lab | Web Scraping"
      ]
    },
    {
      "cell_type": "markdown",
      "id": "ce8882fc-4815-4567-92fa-b4816358ba7d",
      "metadata": {
        "id": "ce8882fc-4815-4567-92fa-b4816358ba7d"
      },
      "source": [
        "Welcome to the \"Books to Scrape\" Web Scraping Adventure Lab!\n",
        "\n",
        "**Objective**\n",
        "\n",
        "In this lab, we will embark on a mission to unearth valuable insights from the data available on Books to Scrape, an online platform showcasing a wide variety of books. As data analyst, you have been tasked with scraping a specific subset of book data from Books to Scrape to assist publishing companies in understanding the landscape of highly-rated books across different genres. Your insights will help shape future book marketing strategies and publishing decisions.\n",
        "\n",
        "**Background**\n",
        "\n",
        "In a world where data has become the new currency, businesses are leveraging big data to make informed decisions that drive success and profitability. The publishing industry, much like others, utilizes data analytics to understand market trends, reader preferences, and the performance of books based on factors such as genre, author, and ratings. Books to Scrape serves as a rich source of such data, offering detailed information about a diverse range of books, making it an ideal platform for extracting insights to aid in informed decision-making within the literary world.\n",
        "\n",
        "**Task**\n",
        "\n",
        "Your task is to create a Python script using BeautifulSoup and pandas to scrape Books to Scrape book data, focusing on book ratings and genres. The script should be able to filter books with ratings above a certain threshold and in specific genres. Additionally, the script should structure the scraped data in a tabular format using pandas for further analysis.\n",
        "\n",
        "**Expected Outcome**\n",
        "\n",
        "A function named `scrape_books` that takes two parameters: `min_rating` and `max_price`. The function should scrape book data from the \"Books to Scrape\" website and return a `pandas` DataFrame with the following columns:\n",
        "\n",
        "**Expected Outcome**\n",
        "\n",
        "- A function named `scrape_books` that takes two parameters: `min_rating` and `max_price`.\n",
        "- The function should return a DataFrame with the following columns:\n",
        "  - **UPC**: The Universal Product Code (UPC) of the book.\n",
        "  - **Title**: The title of the book.\n",
        "  - **Price (£)**: The price of the book in pounds.\n",
        "  - **Rating**: The rating of the book (1-5 stars).\n",
        "  - **Genre**: The genre of the book.\n",
        "  - **Availability**: Whether the book is in stock or not.\n",
        "  - **Description**: A brief description or product description of the book (if available).\n",
        "  \n",
        "You will execute this script to scrape data for books with a minimum rating of `4.0 and above` and a maximum price of `£20`. \n",
        "\n",
        "Remember to experiment with different ratings and prices to ensure your code is versatile and can handle various searches effectively!\n",
        "\n",
        "**Resources**\n",
        "\n",
        "- [Beautiful Soup Documentation](https://www.crummy.com/software/BeautifulSoup/bs4/doc/)\n",
        "- [Pandas Documentation](https://pandas.pydata.org/pandas-docs/stable/index.html)\n",
        "- [Books to Scrape](https://books.toscrape.com/)\n"
      ]
    },
    {
      "cell_type": "markdown",
      "id": "3519921d-5890-445b-9a33-934ed8ee378c",
      "metadata": {
        "id": "3519921d-5890-445b-9a33-934ed8ee378c"
      },
      "source": [
        "**Hint**\n",
        "\n",
        "Your first mission is to familiarize yourself with the **Books to Scrape** website. Navigate to [Books to Scrape](http://books.toscrape.com/) and explore the available books to understand their layout and structure. \n",
        "\n",
        "Next, think about how you can set parameters for your data extraction:\n",
        "\n",
        "- **Minimum Rating**: Focus on books with a rating of 4.0 and above.\n",
        "- **Maximum Price**: Filter for books priced up to £20.\n",
        "\n",
        "After reviewing the site, you can construct a plan for scraping relevant data. Pay attention to the details displayed for each book, including the title, price, rating, and availability. This will help you identify the correct HTML elements to target with your scraping script.\n",
        "\n",
        "Make sure to build your scraping URL and logic based on the patterns you observe in the HTML structure of the book listings!"
      ]
    },
    {
      "cell_type": "markdown",
      "id": "25a83a0d-a742-49f6-985e-e27887cbf922",
      "metadata": {
        "id": "25a83a0d-a742-49f6-985e-e27887cbf922"
      },
      "source": [
        "\n",
        "---\n",
        "\n",
        "**Best of luck! Immerse yourself in the world of books, and may the data be with you!**"
      ]
    },
    {
      "cell_type": "markdown",
      "id": "7b75cf0d-9afa-4eec-a9e2-befeac68b2a0",
      "metadata": {
        "id": "7b75cf0d-9afa-4eec-a9e2-befeac68b2a0"
      },
      "source": [
        "**Important Note**:\n",
        "\n",
        "In the fast-changing online world, websites often update and change their structures. When you try this lab, the **Books to Scrape** website might differ from what you expect.\n",
        "\n",
        "If you encounter issues due to these changes, like new rules or obstacles preventing data extraction, don’t worry! Get creative.\n",
        "\n",
        "You can choose another website that interests you and is suitable for scraping data. Options like Wikipedia, The New York Times, or even library databases are great alternatives. The main goal remains the same: extract useful data and enhance your web scraping skills while exploring a source of information you enjoy. This is your opportunity to practice and adapt to different web environments!"
      ]
    },
    {
      "cell_type": "code",
      "execution_count": 32,
      "id": "40359eee-9cd7-4884-bfa4-83344c222305",
      "metadata": {
        "id": "40359eee-9cd7-4884-bfa4-83344c222305"
      },
      "outputs": [],
      "source": [
        "import requests\n",
        "from bs4 import BeautifulSoup\n",
        "\n",
        "url = \"https://books.toscrape.com/\"\n",
        "\n",
        "response = requests.get(url)\n",
        "\n",
        "soup = BeautifulSoup(response.content)"
      ]
    },
    {
      "cell_type": "code",
      "execution_count": 33,
      "id": "362a4ecc",
      "metadata": {},
      "outputs": [
        {
          "name": "stdout",
          "output_type": "stream",
          "text": [
            "A Light in the ...  £51.77                In stock        Add to basket\n",
            "Tipping the Velvet  £53.74                In stock        Add to basket\n",
            "Soumission  £50.10                In stock        Add to basket\n",
            "Sharp Objects  £47.82                In stock        Add to basket\n",
            "Sapiens: A Brief History ...  £54.23                In stock        Add to basket\n",
            "The Requiem Red  £22.65                In stock        Add to basket\n",
            "The Dirty Little Secrets ...  £33.34                In stock        Add to basket\n",
            "The Coming Woman: A ...  £17.93                In stock        Add to basket\n",
            "The Boys in the ...  £22.60                In stock        Add to basket\n",
            "The Black Maria  £52.15                In stock        Add to basket\n",
            "Starving Hearts (Triangular Trade ...  £13.99                In stock        Add to basket\n",
            "Shakespeare's Sonnets  £20.66                In stock        Add to basket\n",
            "Set Me Free  £17.46                In stock        Add to basket\n",
            "Scott Pilgrim's Precious Little ...  £52.29                In stock        Add to basket\n",
            "Rip it Up and ...  £35.02                In stock        Add to basket\n",
            "Our Band Could Be ...  £57.25                In stock        Add to basket\n",
            "Olio  £23.88                In stock        Add to basket\n",
            "Mesaerion: The Best Science ...  £37.59                In stock        Add to basket\n",
            "Libertarianism for Beginners  £51.33                In stock        Add to basket\n",
            "It's Only the Himalayas  £45.17                In stock        Add to basket\n"
          ]
        }
      ],
      "source": [
        "grid = soup.find('ol', attrs={\"class\":'row'})\n",
        "\n",
        "books = grid.find_all(\"li\", attrs={\"class\":\"col-xs-6 col-sm-4 col-md-3 col-lg-3\"})\n",
        "\n",
        "for book in books:\n",
        "    print(book.get_text().replace('\\n',' ').strip())\n"
      ]
    },
    {
      "cell_type": "code",
      "execution_count": null,
      "id": "c5f0934e",
      "metadata": {},
      "outputs": [
        {
          "data": {
            "text/plain": [
              "'Set Me Free'"
            ]
          },
          "execution_count": 43,
          "metadata": {},
          "output_type": "execute_result"
        }
      ],
      "source": [
        "#TITLE\n",
        "\n",
        "books[0].find(\"a\", attrs={\"title\": True}).get_text().strip()\n",
        "\n",
        "def get_title(book):\n",
        "    title = book.find(\"a\", attrs={\"title\": True}).get_text().strip()\n",
        "    return title\n",
        "\n",
        "get_title(books[12])\n"
      ]
    },
    {
      "cell_type": "code",
      "execution_count": null,
      "id": "5dea3c59",
      "metadata": {},
      "outputs": [
        {
          "data": {
            "text/plain": [
              "'£17.46'"
            ]
          },
          "execution_count": 49,
          "metadata": {},
          "output_type": "execute_result"
        }
      ],
      "source": [
        "# PRICE\n",
        "\n",
        "books[0].find(\"p\", attrs={\"class\": \"price_color\"}).get_text().strip()\n",
        "\n",
        "def get_price(book):\n",
        "    price = book.find(\"p\", attrs={\"class\": \"price_color\"}).get_text().strip()\n",
        "    return price\n",
        "\n",
        "get_price(books[12])\n",
        "\n"
      ]
    },
    {
      "cell_type": "code",
      "execution_count": null,
      "id": "8cad30d7",
      "metadata": {},
      "outputs": [
        {
          "data": {
            "text/plain": [
              "'Five'"
            ]
          },
          "execution_count": 66,
          "metadata": {},
          "output_type": "execute_result"
        }
      ],
      "source": [
        "# RATING\n",
        "\n",
        "books[1].find(\"p\", attrs={\"class\": \"star-rating\"})[\"class\"][1]\n",
        "\n",
        "def get_rating(book):\n",
        "    rating = book.find(\"p\", attrs={\"class\": \"star-rating\"})[\"class\"][1]\n",
        "    return rating\n",
        "\n",
        "get_rating(books[12])\n",
        "\n"
      ]
    },
    {
      "cell_type": "code",
      "execution_count": null,
      "id": "a56a3078",
      "metadata": {},
      "outputs": [
        {
          "data": {
            "text/plain": [
              "'In stock'"
            ]
          },
          "execution_count": 69,
          "metadata": {},
          "output_type": "execute_result"
        }
      ],
      "source": [
        "# STOCK\n",
        "\n",
        "books[1].find(\"p\", attrs={\"class\": \"instock availability\"}).get_text().strip()\n",
        "\n",
        "def get_stock(book):\n",
        "    stock = book.find(\"p\", attrs={\"class\": \"instock availability\"}).get_text().strip()\n",
        "    return stock\n",
        "\n",
        "get_stock(books[12])"
      ]
    }
  ],
  "metadata": {
    "colab": {
      "provenance": []
    },
    "kernelspec": {
      "display_name": "base",
      "language": "python",
      "name": "python3"
    },
    "language_info": {
      "codemirror_mode": {
        "name": "ipython",
        "version": 3
      },
      "file_extension": ".py",
      "mimetype": "text/x-python",
      "name": "python",
      "nbconvert_exporter": "python",
      "pygments_lexer": "ipython3",
      "version": "3.13.5"
    }
  },
  "nbformat": 4,
  "nbformat_minor": 5
}
